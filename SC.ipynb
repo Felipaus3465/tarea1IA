{
 "cells": [
  {
   "cell_type": "markdown",
   "id": "075b762d",
   "metadata": {},
   "source": [
    "Implementación de regresión líneal manual con descenso de gradiente"
   ]
  },
  {
   "cell_type": "code",
   "execution_count": 1,
   "id": "ed22a005",
   "metadata": {},
   "outputs": [],
   "source": [
    "#Importación de librerías\n",
    "import numpy as np\n",
    "import pandas as pd"
   ]
  },
  {
   "cell_type": "code",
   "execution_count": 137,
   "id": "741ecec5",
   "metadata": {},
   "outputs": [],
   "source": [
    "#Carga de datos\n",
    "data = pd.read_csv('./Student_Performance.csv')"
   ]
  },
  {
   "cell_type": "code",
   "execution_count": 138,
   "id": "435d7337",
   "metadata": {},
   "outputs": [
    {
     "data": {
      "text/html": [
       "<div>\n",
       "<style scoped>\n",
       "    .dataframe tbody tr th:only-of-type {\n",
       "        vertical-align: middle;\n",
       "    }\n",
       "\n",
       "    .dataframe tbody tr th {\n",
       "        vertical-align: top;\n",
       "    }\n",
       "\n",
       "    .dataframe thead th {\n",
       "        text-align: right;\n",
       "    }\n",
       "</style>\n",
       "<table border=\"1\" class=\"dataframe\">\n",
       "  <thead>\n",
       "    <tr style=\"text-align: right;\">\n",
       "      <th></th>\n",
       "      <th>Hours Studied</th>\n",
       "      <th>Previous Scores</th>\n",
       "      <th>Extracurricular Activities</th>\n",
       "      <th>Sleep Hours</th>\n",
       "      <th>Sample Question Papers Practiced</th>\n",
       "      <th>Performance Index</th>\n",
       "    </tr>\n",
       "  </thead>\n",
       "  <tbody>\n",
       "    <tr>\n",
       "      <th>0</th>\n",
       "      <td>7</td>\n",
       "      <td>99</td>\n",
       "      <td>Yes</td>\n",
       "      <td>9</td>\n",
       "      <td>1</td>\n",
       "      <td>91.0</td>\n",
       "    </tr>\n",
       "    <tr>\n",
       "      <th>1</th>\n",
       "      <td>4</td>\n",
       "      <td>82</td>\n",
       "      <td>No</td>\n",
       "      <td>4</td>\n",
       "      <td>2</td>\n",
       "      <td>65.0</td>\n",
       "    </tr>\n",
       "    <tr>\n",
       "      <th>2</th>\n",
       "      <td>8</td>\n",
       "      <td>51</td>\n",
       "      <td>Yes</td>\n",
       "      <td>7</td>\n",
       "      <td>2</td>\n",
       "      <td>45.0</td>\n",
       "    </tr>\n",
       "    <tr>\n",
       "      <th>3</th>\n",
       "      <td>5</td>\n",
       "      <td>52</td>\n",
       "      <td>Yes</td>\n",
       "      <td>5</td>\n",
       "      <td>2</td>\n",
       "      <td>36.0</td>\n",
       "    </tr>\n",
       "    <tr>\n",
       "      <th>4</th>\n",
       "      <td>7</td>\n",
       "      <td>75</td>\n",
       "      <td>No</td>\n",
       "      <td>8</td>\n",
       "      <td>5</td>\n",
       "      <td>66.0</td>\n",
       "    </tr>\n",
       "  </tbody>\n",
       "</table>\n",
       "</div>"
      ],
      "text/plain": [
       "   Hours Studied  Previous Scores Extracurricular Activities  Sleep Hours  \\\n",
       "0              7               99                        Yes            9   \n",
       "1              4               82                         No            4   \n",
       "2              8               51                        Yes            7   \n",
       "3              5               52                        Yes            5   \n",
       "4              7               75                         No            8   \n",
       "\n",
       "   Sample Question Papers Practiced  Performance Index  \n",
       "0                                 1               91.0  \n",
       "1                                 2               65.0  \n",
       "2                                 2               45.0  \n",
       "3                                 2               36.0  \n",
       "4                                 5               66.0  "
      ]
     },
     "execution_count": 138,
     "metadata": {},
     "output_type": "execute_result"
    }
   ],
   "source": [
    "data.head()  # Muestra todo el DataFrame"
   ]
  },
  {
   "cell_type": "markdown",
   "id": "fa193f06",
   "metadata": {},
   "source": [
    "A continuación se va a evaluar la limpieza del dataset"
   ]
  },
  {
   "cell_type": "code",
   "execution_count": 139,
   "id": "ce46864c",
   "metadata": {},
   "outputs": [
    {
     "name": "stdout",
     "output_type": "stream",
     "text": [
      "<class 'pandas.core.frame.DataFrame'>\n",
      "RangeIndex: 10000 entries, 0 to 9999\n",
      "Data columns (total 6 columns):\n",
      " #   Column                            Non-Null Count  Dtype  \n",
      "---  ------                            --------------  -----  \n",
      " 0   Hours Studied                     10000 non-null  int64  \n",
      " 1   Previous Scores                   10000 non-null  int64  \n",
      " 2   Extracurricular Activities        10000 non-null  object \n",
      " 3   Sleep Hours                       10000 non-null  int64  \n",
      " 4   Sample Question Papers Practiced  10000 non-null  int64  \n",
      " 5   Performance Index                 10000 non-null  float64\n",
      "dtypes: float64(1), int64(4), object(1)\n",
      "memory usage: 468.9+ KB\n"
     ]
    }
   ],
   "source": [
    "# Muestra un resumen del DataFrame\n",
    "data.info()  "
   ]
  },
  {
   "cell_type": "code",
   "execution_count": 140,
   "id": "4230581c",
   "metadata": {},
   "outputs": [],
   "source": [
    "#Verificación de valores nulos\n",
    "assert data[\"Hours Studied\"].isna().all() == False\n",
    "assert data[\"Previous Scores\"].isna().all() == False\n",
    "assert data[\"Extracurricular Activities\"].isna().all() == False\n",
    "assert data[\"Sleep Hours\"].isna().all() == False\n",
    "assert data[\"Sample Question Papers Practiced\"].isna().all() == False\n",
    "assert data[\"Performance Index\"].isna().all() == False"
   ]
  },
  {
   "cell_type": "markdown",
   "id": "9431e3ca",
   "metadata": {},
   "source": [
    "En la prueba anterior se probó que todas las columnas poseen datos, por lo que no hay que tratar las columnas en el sentido de eliminar alguna"
   ]
  },
  {
   "cell_type": "code",
   "execution_count": 141,
   "id": "285a58bd",
   "metadata": {},
   "outputs": [
    {
     "data": {
      "text/plain": [
       "True"
      ]
     },
     "execution_count": 141,
     "metadata": {},
     "output_type": "execute_result"
    }
   ],
   "source": [
    "#Verificación de datos duplicados\n",
    "data.duplicated().any()"
   ]
  },
  {
   "cell_type": "code",
   "execution_count": 142,
   "id": "588f0f2d",
   "metadata": {},
   "outputs": [
    {
     "data": {
      "text/plain": [
       "127"
      ]
     },
     "execution_count": 142,
     "metadata": {},
     "output_type": "execute_result"
    }
   ],
   "source": [
    "#Conteo de datos duplicados\n",
    "data.duplicated().sum()"
   ]
  },
  {
   "cell_type": "code",
   "execution_count": 143,
   "id": "c9619e7f",
   "metadata": {},
   "outputs": [
    {
     "data": {
      "text/html": [
       "<div>\n",
       "<style scoped>\n",
       "    .dataframe tbody tr th:only-of-type {\n",
       "        vertical-align: middle;\n",
       "    }\n",
       "\n",
       "    .dataframe tbody tr th {\n",
       "        vertical-align: top;\n",
       "    }\n",
       "\n",
       "    .dataframe thead th {\n",
       "        text-align: right;\n",
       "    }\n",
       "</style>\n",
       "<table border=\"1\" class=\"dataframe\">\n",
       "  <thead>\n",
       "    <tr style=\"text-align: right;\">\n",
       "      <th></th>\n",
       "      <th>Hours Studied</th>\n",
       "      <th>Previous Scores</th>\n",
       "      <th>Extracurricular Activities</th>\n",
       "      <th>Sleep Hours</th>\n",
       "      <th>Sample Question Papers Practiced</th>\n",
       "      <th>Performance Index</th>\n",
       "    </tr>\n",
       "  </thead>\n",
       "  <tbody>\n",
       "    <tr>\n",
       "      <th>915</th>\n",
       "      <td>9</td>\n",
       "      <td>52</td>\n",
       "      <td>No</td>\n",
       "      <td>5</td>\n",
       "      <td>9</td>\n",
       "      <td>48.0</td>\n",
       "    </tr>\n",
       "    <tr>\n",
       "      <th>1477</th>\n",
       "      <td>7</td>\n",
       "      <td>61</td>\n",
       "      <td>Yes</td>\n",
       "      <td>6</td>\n",
       "      <td>8</td>\n",
       "      <td>54.0</td>\n",
       "    </tr>\n",
       "    <tr>\n",
       "      <th>1601</th>\n",
       "      <td>5</td>\n",
       "      <td>99</td>\n",
       "      <td>No</td>\n",
       "      <td>7</td>\n",
       "      <td>5</td>\n",
       "      <td>89.0</td>\n",
       "    </tr>\n",
       "    <tr>\n",
       "      <th>1786</th>\n",
       "      <td>2</td>\n",
       "      <td>62</td>\n",
       "      <td>Yes</td>\n",
       "      <td>9</td>\n",
       "      <td>4</td>\n",
       "      <td>40.0</td>\n",
       "    </tr>\n",
       "    <tr>\n",
       "      <th>2026</th>\n",
       "      <td>5</td>\n",
       "      <td>87</td>\n",
       "      <td>Yes</td>\n",
       "      <td>6</td>\n",
       "      <td>7</td>\n",
       "      <td>74.0</td>\n",
       "    </tr>\n",
       "    <tr>\n",
       "      <th>...</th>\n",
       "      <td>...</td>\n",
       "      <td>...</td>\n",
       "      <td>...</td>\n",
       "      <td>...</td>\n",
       "      <td>...</td>\n",
       "      <td>...</td>\n",
       "    </tr>\n",
       "    <tr>\n",
       "      <th>9644</th>\n",
       "      <td>4</td>\n",
       "      <td>91</td>\n",
       "      <td>Yes</td>\n",
       "      <td>4</td>\n",
       "      <td>3</td>\n",
       "      <td>71.0</td>\n",
       "    </tr>\n",
       "    <tr>\n",
       "      <th>9940</th>\n",
       "      <td>8</td>\n",
       "      <td>95</td>\n",
       "      <td>No</td>\n",
       "      <td>5</td>\n",
       "      <td>2</td>\n",
       "      <td>90.0</td>\n",
       "    </tr>\n",
       "    <tr>\n",
       "      <th>9954</th>\n",
       "      <td>6</td>\n",
       "      <td>97</td>\n",
       "      <td>No</td>\n",
       "      <td>8</td>\n",
       "      <td>7</td>\n",
       "      <td>92.0</td>\n",
       "    </tr>\n",
       "    <tr>\n",
       "      <th>9966</th>\n",
       "      <td>1</td>\n",
       "      <td>41</td>\n",
       "      <td>No</td>\n",
       "      <td>7</td>\n",
       "      <td>3</td>\n",
       "      <td>12.0</td>\n",
       "    </tr>\n",
       "    <tr>\n",
       "      <th>9985</th>\n",
       "      <td>8</td>\n",
       "      <td>99</td>\n",
       "      <td>No</td>\n",
       "      <td>5</td>\n",
       "      <td>5</td>\n",
       "      <td>92.0</td>\n",
       "    </tr>\n",
       "  </tbody>\n",
       "</table>\n",
       "<p>127 rows × 6 columns</p>\n",
       "</div>"
      ],
      "text/plain": [
       "      Hours Studied  Previous Scores Extracurricular Activities  Sleep Hours  \\\n",
       "915               9               52                         No            5   \n",
       "1477              7               61                        Yes            6   \n",
       "1601              5               99                         No            7   \n",
       "1786              2               62                        Yes            9   \n",
       "2026              5               87                        Yes            6   \n",
       "...             ...              ...                        ...          ...   \n",
       "9644              4               91                        Yes            4   \n",
       "9940              8               95                         No            5   \n",
       "9954              6               97                         No            8   \n",
       "9966              1               41                         No            7   \n",
       "9985              8               99                         No            5   \n",
       "\n",
       "      Sample Question Papers Practiced  Performance Index  \n",
       "915                                  9               48.0  \n",
       "1477                                 8               54.0  \n",
       "1601                                 5               89.0  \n",
       "1786                                 4               40.0  \n",
       "2026                                 7               74.0  \n",
       "...                                ...                ...  \n",
       "9644                                 3               71.0  \n",
       "9940                                 2               90.0  \n",
       "9954                                 7               92.0  \n",
       "9966                                 3               12.0  \n",
       "9985                                 5               92.0  \n",
       "\n",
       "[127 rows x 6 columns]"
      ]
     },
     "execution_count": 143,
     "metadata": {},
     "output_type": "execute_result"
    }
   ],
   "source": [
    "#Mostrar filas duplicadas\n",
    "data[data.duplicated()]"
   ]
  },
  {
   "cell_type": "code",
   "execution_count": 144,
   "id": "5ad3938b",
   "metadata": {},
   "outputs": [],
   "source": [
    "#Eliminación de filas duplicadas\n",
    "data_clean = data.drop_duplicates()\n",
    "data_clean.reset_index(drop=True, inplace=True)"
   ]
  },
  {
   "cell_type": "markdown",
   "id": "0128f0b5",
   "metadata": {},
   "source": [
    "Como se descubrio 127 filas duplicadas, se eliminaron para evitar redundacia de datos. A continuación se mostrará el dataset con una limpieza básica y su posterio análisis antes de DEA."
   ]
  },
  {
   "cell_type": "markdown",
   "id": "e46e6a4d",
   "metadata": {},
   "source": [
    "Como la categoría de Extracurricular Activities indica que es de tipo objeto, se realizará un cambio de tipo a boleano númerico, donde 1 es Yes y 0 es No."
   ]
  },
  {
   "cell_type": "code",
   "execution_count": 145,
   "id": "aacccbd4",
   "metadata": {},
   "outputs": [],
   "source": [
    "# Cambia los valores de \"Yes\" y \"No\" a 1 y 0 respectivamente\n",
    "data_clean.loc[:, \"Extracurricular Activities\"] = data_clean[\"Extracurricular Activities\"].fillna(\"No\").map({\"Yes\": 1, \"No\": 0})"
   ]
  },
  {
   "cell_type": "code",
   "execution_count": 146,
   "id": "3a2fdf24",
   "metadata": {},
   "outputs": [
    {
     "data": {
      "text/plain": [
       "<bound method NDFrame.describe of       Hours Studied  Previous Scores Extracurricular Activities  Sleep Hours  \\\n",
       "0                 7               99                          1            9   \n",
       "1                 4               82                          0            4   \n",
       "2                 8               51                          1            7   \n",
       "3                 5               52                          1            5   \n",
       "4                 7               75                          0            8   \n",
       "...             ...              ...                        ...          ...   \n",
       "9868              1               49                          1            4   \n",
       "9869              7               64                          1            8   \n",
       "9870              6               83                          1            8   \n",
       "9871              9               97                          1            7   \n",
       "9872              7               74                          0            8   \n",
       "\n",
       "      Sample Question Papers Practiced  Performance Index  \n",
       "0                                    1               91.0  \n",
       "1                                    2               65.0  \n",
       "2                                    2               45.0  \n",
       "3                                    2               36.0  \n",
       "4                                    5               66.0  \n",
       "...                                ...                ...  \n",
       "9868                                 2               23.0  \n",
       "9869                                 5               58.0  \n",
       "9870                                 5               74.0  \n",
       "9871                                 0               95.0  \n",
       "9872                                 1               64.0  \n",
       "\n",
       "[9873 rows x 6 columns]>"
      ]
     },
     "execution_count": 146,
     "metadata": {},
     "output_type": "execute_result"
    }
   ],
   "source": [
    "# Muestra estadísticas descriptivas del DataFrame\n",
    "data_clean.describe"
   ]
  },
  {
   "cell_type": "code",
   "execution_count": 147,
   "id": "aec50562-e4ff-4d8a-ac9a-6769b3ce3d89",
   "metadata": {},
   "outputs": [
    {
     "name": "stdout",
     "output_type": "stream",
     "text": [
      "<class 'pandas.core.frame.DataFrame'>\n",
      "RangeIndex: 9873 entries, 0 to 9872\n",
      "Data columns (total 6 columns):\n",
      " #   Column                            Non-Null Count  Dtype  \n",
      "---  ------                            --------------  -----  \n",
      " 0   Hours Studied                     9873 non-null   int64  \n",
      " 1   Previous Scores                   9873 non-null   int64  \n",
      " 2   Extracurricular Activities        9873 non-null   object \n",
      " 3   Sleep Hours                       9873 non-null   int64  \n",
      " 4   Sample Question Papers Practiced  9873 non-null   int64  \n",
      " 5   Performance Index                 9873 non-null   float64\n",
      "dtypes: float64(1), int64(4), object(1)\n",
      "memory usage: 462.9+ KB\n"
     ]
    }
   ],
   "source": [
    "data_clean.info() "
   ]
  },
  {
   "cell_type": "code",
   "execution_count": 148,
   "id": "a6ead99e",
   "metadata": {},
   "outputs": [
    {
     "data": {
      "text/html": [
       "<div>\n",
       "<style scoped>\n",
       "    .dataframe tbody tr th:only-of-type {\n",
       "        vertical-align: middle;\n",
       "    }\n",
       "\n",
       "    .dataframe tbody tr th {\n",
       "        vertical-align: top;\n",
       "    }\n",
       "\n",
       "    .dataframe thead th {\n",
       "        text-align: right;\n",
       "    }\n",
       "</style>\n",
       "<table border=\"1\" class=\"dataframe\">\n",
       "  <thead>\n",
       "    <tr style=\"text-align: right;\">\n",
       "      <th></th>\n",
       "      <th>Hours Studied</th>\n",
       "      <th>Previous Scores</th>\n",
       "      <th>Sleep Hours</th>\n",
       "      <th>Sample Question Papers Practiced</th>\n",
       "      <th>Performance Index</th>\n",
       "    </tr>\n",
       "  </thead>\n",
       "  <tbody>\n",
       "    <tr>\n",
       "      <th>count</th>\n",
       "      <td>9873.000000</td>\n",
       "      <td>9873.000000</td>\n",
       "      <td>9873.000000</td>\n",
       "      <td>9873.000000</td>\n",
       "      <td>9873.000000</td>\n",
       "    </tr>\n",
       "    <tr>\n",
       "      <th>mean</th>\n",
       "      <td>4.992100</td>\n",
       "      <td>69.441102</td>\n",
       "      <td>6.531652</td>\n",
       "      <td>4.583004</td>\n",
       "      <td>55.216651</td>\n",
       "    </tr>\n",
       "    <tr>\n",
       "      <th>std</th>\n",
       "      <td>2.589081</td>\n",
       "      <td>17.325601</td>\n",
       "      <td>1.697683</td>\n",
       "      <td>2.867202</td>\n",
       "      <td>19.208570</td>\n",
       "    </tr>\n",
       "    <tr>\n",
       "      <th>min</th>\n",
       "      <td>1.000000</td>\n",
       "      <td>40.000000</td>\n",
       "      <td>4.000000</td>\n",
       "      <td>0.000000</td>\n",
       "      <td>10.000000</td>\n",
       "    </tr>\n",
       "    <tr>\n",
       "      <th>25%</th>\n",
       "      <td>3.000000</td>\n",
       "      <td>54.000000</td>\n",
       "      <td>5.000000</td>\n",
       "      <td>2.000000</td>\n",
       "      <td>40.000000</td>\n",
       "    </tr>\n",
       "    <tr>\n",
       "      <th>50%</th>\n",
       "      <td>5.000000</td>\n",
       "      <td>69.000000</td>\n",
       "      <td>7.000000</td>\n",
       "      <td>5.000000</td>\n",
       "      <td>55.000000</td>\n",
       "    </tr>\n",
       "    <tr>\n",
       "      <th>75%</th>\n",
       "      <td>7.000000</td>\n",
       "      <td>85.000000</td>\n",
       "      <td>8.000000</td>\n",
       "      <td>7.000000</td>\n",
       "      <td>70.000000</td>\n",
       "    </tr>\n",
       "    <tr>\n",
       "      <th>max</th>\n",
       "      <td>9.000000</td>\n",
       "      <td>99.000000</td>\n",
       "      <td>9.000000</td>\n",
       "      <td>9.000000</td>\n",
       "      <td>100.000000</td>\n",
       "    </tr>\n",
       "  </tbody>\n",
       "</table>\n",
       "</div>"
      ],
      "text/plain": [
       "       Hours Studied  Previous Scores  Sleep Hours  \\\n",
       "count    9873.000000      9873.000000  9873.000000   \n",
       "mean        4.992100        69.441102     6.531652   \n",
       "std         2.589081        17.325601     1.697683   \n",
       "min         1.000000        40.000000     4.000000   \n",
       "25%         3.000000        54.000000     5.000000   \n",
       "50%         5.000000        69.000000     7.000000   \n",
       "75%         7.000000        85.000000     8.000000   \n",
       "max         9.000000        99.000000     9.000000   \n",
       "\n",
       "       Sample Question Papers Practiced  Performance Index  \n",
       "count                       9873.000000        9873.000000  \n",
       "mean                           4.583004          55.216651  \n",
       "std                            2.867202          19.208570  \n",
       "min                            0.000000          10.000000  \n",
       "25%                            2.000000          40.000000  \n",
       "50%                            5.000000          55.000000  \n",
       "75%                            7.000000          70.000000  \n",
       "max                            9.000000         100.000000  "
      ]
     },
     "execution_count": 148,
     "metadata": {},
     "output_type": "execute_result"
    }
   ],
   "source": [
    "# Muestra estadísticas descriptivas del DataFrame\n",
    "data_clean.describe()"
   ]
  },
  {
   "cell_type": "markdown",
   "id": "70584065",
   "metadata": {},
   "source": [
    "A continuación se realizará el DEA"
   ]
  },
  {
   "cell_type": "code",
   "execution_count": 149,
   "id": "f0189235",
   "metadata": {},
   "outputs": [
    {
     "data": {
      "text/plain": [
       "array([[<Axes: title={'center': 'Hours Studied'}>,\n",
       "        <Axes: title={'center': 'Previous Scores'}>],\n",
       "       [<Axes: title={'center': 'Sleep Hours'}>,\n",
       "        <Axes: title={'center': 'Sample Question Papers Practiced'}>],\n",
       "       [<Axes: title={'center': 'Performance Index'}>, <Axes: >]],\n",
       "      dtype=object)"
      ]
     },
     "execution_count": 149,
     "metadata": {},
     "output_type": "execute_result"
    },
    {
     "data": {
      "image/png": "[encoded data removed]",
      "text/plain": [
       "<Figure size 1500x1000 with 6 Axes>"
      ]
     },
     "metadata": {},
     "output_type": "display_data"
    }
   ],
   "source": [
    "#histogramas de las variables numéricas de 15x10\n",
    "data_clean.hist(bins=15, figsize=(15, 10))"
   ]
  },
  {
   "cell_type": "markdown",
   "id": "f4669749",
   "metadata": {},
   "source": [
    "En el primer gráfico se observa que la mayoría de los estudiantes estudia entre 1 y 2 horas o entre 8 y 9 horas antes de una evaluación. Por su parte, el gráfico del índice de rendimiento muestra que se concentra en el rango de 40 a 60, lo cual resulta consistente con las notas obtenidas en el gráfico de las evaluaciones anteriores."
   ]
  },
  {
   "cell_type": "code",
   "execution_count": 150,
   "id": "7fafcc42",
   "metadata": {},
   "outputs": [
    {
     "data": {
      "text/plain": [
       "Hours Studied                          Axes(0.125,0.653529;0.227941x0.226471)\n",
       "Previous Scores                     Axes(0.398529,0.653529;0.227941x0.226471)\n",
       "Sleep Hours                         Axes(0.672059,0.653529;0.227941x0.226471)\n",
       "Sample Question Papers Practiced       Axes(0.125,0.381765;0.227941x0.226471)\n",
       "Performance Index                   Axes(0.398529,0.381765;0.227941x0.226471)\n",
       "dtype: object"
      ]
     },
     "execution_count": 150,
     "metadata": {},
     "output_type": "execute_result"
    },
    {
     "data": {
      "image/png": "[encoded data removed]",
      "text/plain": [
       "<Figure size 1500x1000 with 9 Axes>"
      ]
     },
     "metadata": {},
     "output_type": "display_data"
    }
   ],
   "source": [
    "#Boxplot de las variables numéricas\n",
    "data_clean.plot(kind='box', subplots=True, layout=(3,3), figsize=(15,10), sharex=False, sharey=False)"
   ]
  },
  {
   "cell_type": "markdown",
   "id": "12380f74",
   "metadata": {},
   "source": [
    "En el boxplot de horas estudiadas se aprecia una variabilidad media y no se observan indicios de sesgo.\n",
    "El boxplot de notas anteriores también muestra una variabilidad media sin evidencias de sesgo.\n",
    "En el caso de las horas de sueño, la caja es la más alta, lo que refleja una elevada variabilidad en los datos, con una distribución sesgada hacia la izquierda.\n",
    "El boxplot de preguntas practicadas presenta la segunda caja más alta, indicando una alta variabilidad y un ligero sesgo a la izquierda.\n",
    "Finalmente, el boxplot del índice de rendimiento muestra una baja variabilidad y ausencia de sesgo."
   ]
  },
  {
   "cell_type": "code",
   "execution_count": 151,
   "id": "cecc1e82",
   "metadata": {},
   "outputs": [
    {
     "data": {
      "text/html": [
       "<div>\n",
       "<style scoped>\n",
       "    .dataframe tbody tr th:only-of-type {\n",
       "        vertical-align: middle;\n",
       "    }\n",
       "\n",
       "    .dataframe tbody tr th {\n",
       "        vertical-align: top;\n",
       "    }\n",
       "\n",
       "    .dataframe thead th {\n",
       "        text-align: right;\n",
       "    }\n",
       "</style>\n",
       "<table border=\"1\" class=\"dataframe\">\n",
       "  <thead>\n",
       "    <tr style=\"text-align: right;\">\n",
       "      <th></th>\n",
       "      <th>Hours Studied</th>\n",
       "      <th>Previous Scores</th>\n",
       "      <th>Extracurricular Activities</th>\n",
       "      <th>Sleep Hours</th>\n",
       "      <th>Sample Question Papers Practiced</th>\n",
       "      <th>Performance Index</th>\n",
       "    </tr>\n",
       "  </thead>\n",
       "  <tbody>\n",
       "    <tr>\n",
       "      <th>Hours Studied</th>\n",
       "      <td>1.000000</td>\n",
       "      <td>-0.010676</td>\n",
       "      <td>0.004899</td>\n",
       "      <td>0.002131</td>\n",
       "      <td>0.015740</td>\n",
       "      <td>0.375332</td>\n",
       "    </tr>\n",
       "    <tr>\n",
       "      <th>Previous Scores</th>\n",
       "      <td>-0.010676</td>\n",
       "      <td>1.000000</td>\n",
       "      <td>0.009534</td>\n",
       "      <td>0.007975</td>\n",
       "      <td>0.008719</td>\n",
       "      <td>0.915135</td>\n",
       "    </tr>\n",
       "    <tr>\n",
       "      <th>Extracurricular Activities</th>\n",
       "      <td>0.004899</td>\n",
       "      <td>0.009534</td>\n",
       "      <td>1.000000</td>\n",
       "      <td>-0.024008</td>\n",
       "      <td>0.013839</td>\n",
       "      <td>0.026075</td>\n",
       "    </tr>\n",
       "    <tr>\n",
       "      <th>Sleep Hours</th>\n",
       "      <td>0.002131</td>\n",
       "      <td>0.007975</td>\n",
       "      <td>-0.024008</td>\n",
       "      <td>1.000000</td>\n",
       "      <td>0.004907</td>\n",
       "      <td>0.050352</td>\n",
       "    </tr>\n",
       "    <tr>\n",
       "      <th>Sample Question Papers Practiced</th>\n",
       "      <td>0.015740</td>\n",
       "      <td>0.008719</td>\n",
       "      <td>0.013839</td>\n",
       "      <td>0.004907</td>\n",
       "      <td>1.000000</td>\n",
       "      <td>0.043436</td>\n",
       "    </tr>\n",
       "    <tr>\n",
       "      <th>Performance Index</th>\n",
       "      <td>0.375332</td>\n",
       "      <td>0.915135</td>\n",
       "      <td>0.026075</td>\n",
       "      <td>0.050352</td>\n",
       "      <td>0.043436</td>\n",
       "      <td>1.000000</td>\n",
       "    </tr>\n",
       "  </tbody>\n",
       "</table>\n",
       "</div>"
      ],
      "text/plain": [
       "                                  Hours Studied  Previous Scores  \\\n",
       "Hours Studied                          1.000000        -0.010676   \n",
       "Previous Scores                       -0.010676         1.000000   \n",
       "Extracurricular Activities             0.004899         0.009534   \n",
       "Sleep Hours                            0.002131         0.007975   \n",
       "Sample Question Papers Practiced       0.015740         0.008719   \n",
       "Performance Index                      0.375332         0.915135   \n",
       "\n",
       "                                  Extracurricular Activities  Sleep Hours  \\\n",
       "Hours Studied                                       0.004899     0.002131   \n",
       "Previous Scores                                     0.009534     0.007975   \n",
       "Extracurricular Activities                          1.000000    -0.024008   \n",
       "Sleep Hours                                        -0.024008     1.000000   \n",
       "Sample Question Papers Practiced                    0.013839     0.004907   \n",
       "Performance Index                                   0.026075     0.050352   \n",
       "\n",
       "                                  Sample Question Papers Practiced  \\\n",
       "Hours Studied                                             0.015740   \n",
       "Previous Scores                                           0.008719   \n",
       "Extracurricular Activities                                0.013839   \n",
       "Sleep Hours                                               0.004907   \n",
       "Sample Question Papers Practiced                          1.000000   \n",
       "Performance Index                                         0.043436   \n",
       "\n",
       "                                  Performance Index  \n",
       "Hours Studied                              0.375332  \n",
       "Previous Scores                            0.915135  \n",
       "Extracurricular Activities                 0.026075  \n",
       "Sleep Hours                                0.050352  \n",
       "Sample Question Papers Practiced           0.043436  \n",
       "Performance Index                          1.000000  "
      ]
     },
     "execution_count": 151,
     "metadata": {},
     "output_type": "execute_result"
    }
   ],
   "source": [
    "#matriz de correlación\n",
    "data_clean.corr()"
   ]
  },
  {
   "cell_type": "markdown",
   "id": "1c484cf1",
   "metadata": {},
   "source": [
    "Los valores de la matriz de correlación son, cercano a 1: correlación positiva fuerte, -1: correlación negativa fuerte y 0: poca o nula correlación\n",
    "\n",
    "En la matriz anterior se observa una fuerte correlación entre las categorías de Performance Index, Hours Studied y Previous Scores. Las demás correlaciones son cercanas a 0\n",
    "\n",
    "**Nota**: Hay valores que dan 1, pero es de la categoría con si misma, por lo que se omite en el análisis"
   ]
  },
  {
   "cell_type": "code",
   "execution_count": 152,
   "id": "e9a9b78f",
   "metadata": {},
   "outputs": [
    {
     "name": "stdout",
     "output_type": "stream",
     "text": [
      "\n",
      "Balance por rangos de 'Hours Studied':\n",
      "               count  proportion (%)\n",
      "Hours Studied                       \n",
      "(0.992, 2.6]    2210       22.384280\n",
      "(2.6, 4.2]      2181       22.090550\n",
      "(4.2, 5.8]      1069       10.827509\n",
      "(5.8, 7.4]      2240       22.688139\n",
      "(7.4, 9.0]      2173       22.009521\n",
      "\n",
      "Balance por rangos de 'Previous Scores':\n",
      "                 count  proportion (%)\n",
      "Previous Scores                       \n",
      "(39.941, 51.8]    1919       19.436848\n",
      "(51.8, 63.6]      2092       21.189102\n",
      "(63.6, 75.4]      1913       19.376076\n",
      "(75.4, 87.2]      1970       19.953408\n",
      "(87.2, 99.0]      1979       20.044566\n",
      "\n",
      "Balance por rangos de 'Sleep Hours':\n",
      "              count  proportion (%)\n",
      "Sleep Hours                        \n",
      "(3.995, 5.0]   3185       32.259698\n",
      "(5.0, 6.0]     1645       16.661602\n",
      "(6.0, 7.0]     1653       16.742631\n",
      "(7.0, 8.0]     1784       18.069482\n",
      "(8.0, 9.0]     1606       16.266586\n",
      "\n",
      "Balance por rangos de 'Sample Question Papers Practiced':\n",
      "                                  count  proportion (%)\n",
      "Sample Question Papers Practiced                       \n",
      "(-0.009, 1.8]                      1906       19.305176\n",
      "(1.8, 3.6]                         1937       19.619163\n",
      "(3.6, 5.4]                         1963       19.882508\n",
      "(5.4, 7.2]                         2013       20.388940\n",
      "(7.2, 9.0]                         2054       20.804214\n",
      "\n",
      "Balance por rangos de 'Performance Index':\n",
      "                   count  proportion (%)\n",
      "Performance Index                       \n",
      "(9.91, 28.0]         893        9.044870\n",
      "(28.0, 46.0]        2643       26.769979\n",
      "(46.0, 64.0]        2917       29.545224\n",
      "(64.0, 82.0]        2598       26.314190\n",
      "(82.0, 100.0]        822        8.325737\n"
     ]
    }
   ],
   "source": [
    "# Se toman las variables numéricas continuas, luego se transforman en categorías (bins) y se analiza el balance de datos en cada categoría\n",
    "num_cols = data_clean.select_dtypes(include=[\"float64\", \"int64\"]).columns\n",
    "\n",
    "# Definir número de bins (rangos)\n",
    "bins = 5  # puedes ajustar según necesites\n",
    "\n",
    "# Crear un diccionario para guardar los resultados\n",
    "balance_summary = {}\n",
    "\n",
    "for col in num_cols:\n",
    "    # Crear bins (rangos) usando pd.cut\n",
    "    binned = pd.cut(data_clean[col], bins=bins)\n",
    "    \n",
    "    # Contar cuántos datos caen en cada rango y calcular porcentaje\n",
    "    counts = binned.value_counts()\n",
    "    percent = binned.value_counts(normalize=True) * 100\n",
    "    \n",
    "    # Guardar en el diccionario\n",
    "    balance_summary[col] = pd.DataFrame({\"count\": counts, \"proportion (%)\": percent})\n",
    "\n",
    "# Mostrar resultados\n",
    "for col, df_summary in balance_summary.items():\n",
    "    print(f\"\\nBalance por rangos de '{col}':\")\n",
    "    print(df_summary.sort_index())"
   ]
  },
  {
   "cell_type": "markdown",
   "id": "2f594345",
   "metadata": {},
   "source": [
    "El análisis del balance de las variables continuas agrupadas en rangos muestra lo siguiente:\n",
    "\n",
    "Hours Studied presenta una distribución relativamente uniforme en la mayoría de los rangos, aunque el intervalo intermedio (4.2–5.8 horas) concentra menos datos (10.8%), indicando un ligero desbalance.\n",
    "\n",
    "Previous Scores está balanceado, con porcentajes muy similares en todos los rangos (19–21%).\n",
    "\n",
    "Sleep Hours evidencia un desbalance, ya que el primer rango (3.99–5 horas) concentra un 32% de los datos, mientras que los otros rangos tienen aproximadamente entre 16 y 18%.\n",
    "\n",
    "Sample Question Papers Practiced está balanceado, con distribución uniforme entre los rangos (19–21%).\n",
    "\n",
    "Performance Index muestra un desbalance notable, con la mayoría de los datos concentrados en los rangos centrales (28–82), y solo alrededor del 8–9% en los rangos extremos.\n",
    "\n",
    "En general, la mayoría de las variables presentan una distribución aceptablemente uniforme, excepto Sleep Hours y Performance Index, que requieren atención al interpretar los resultados de análisis estadísticos o de eficiencia, debido a la concentración de datos en rangos específicos."
   ]
  },
  {
   "cell_type": "code",
   "execution_count": 153,
   "id": "b36ef957",
   "metadata": {},
   "outputs": [
    {
     "name": "stdout",
     "output_type": "stream",
     "text": [
      "Filas con al menos un outlier:\n",
      "Empty DataFrame\n",
      "Columns: [Hours Studied, Previous Scores, Extracurricular Activities, Sleep Hours, Sample Question Papers Practiced, Performance Index]\n",
      "Index: []\n",
      "\n",
      "Conteo de outliers por columna:\n",
      "Hours Studied                       0\n",
      "Previous Scores                     0\n",
      "Extracurricular Activities          0\n",
      "Sleep Hours                         0\n",
      "Sample Question Papers Practiced    0\n",
      "Performance Index                   0\n",
      "dtype: int64\n"
     ]
    }
   ],
   "source": [
    "#Detección de outliers con IQR\n",
    "Q1 = data_clean.quantile(0.25)\n",
    "Q3 = data_clean.quantile(0.75)\n",
    "IQR = Q3 - Q1\n",
    "# Umbrales para detectar outliers\n",
    "lower = Q1 - 1.5 * IQR\n",
    "upper = Q3 + 1.5 * IQR\n",
    "\n",
    "# Crear máscara de outliers (True donde hay outlier)\n",
    "outlier_mask = (data_clean < lower) | (data_clean > upper)\n",
    "\n",
    "# Filtrar filas con al menos un outlier\n",
    "outlier_rows = data_clean[outlier_mask.any(axis=1)]\n",
    "\n",
    "# Contar outliers por columna\n",
    "outlier_counts = outlier_mask.sum()\n",
    "\n",
    "# Mostrar resultados\n",
    "print(\"Filas con al menos un outlier:\")\n",
    "print(outlier_rows)\n",
    "print(\"\\nConteo de outliers por columna:\")\n",
    "print(outlier_counts)"
   ]
  },
  {
   "cell_type": "markdown",
   "id": "42d564e2",
   "metadata": {},
   "source": [
    "El análisis de outliers basado en el rango intercuartílico (IQR) muestra que ninguna de las variables del dataset presenta valores atípicos. Esto indica que los datos son consistentes y no existen observaciones extremas que puedan distorsionar los resultados de análisis posteriores. En consecuencia, no es necesario realizar ningún tratamiento adicional sobre los datos."
   ]
  },
  {
   "cell_type": "markdown",
   "id": "576b4f17-7559-44f8-b632-d9cd0952c1c8",
   "metadata": {},
   "source": [
    "## División de Dataset"
   ]
  },
  {
   "cell_type": "code",
   "execution_count": 154,
   "id": "8687c9a6-ea5d-45eb-a7b0-5f53836e9138",
   "metadata": {},
   "outputs": [],
   "source": [
    "def random_sampling(data, valid_ratio, test_ratio):\n",
    "    indices = np.random.permutation(len(data))\n",
    "    valid_set_size = int(len(data) * valid_ratio)\n",
    "    test_set_size = int(len(data) * test_ratio)\n",
    "    valid_indices = indices[:valid_set_size]\n",
    "    test_indices = indices[valid_set_size: (valid_set_size + test_set_size)]\n",
    "    train_indices = indices[(valid_set_size + test_set_size) :]\n",
    "    return data.iloc[train_indices], data.iloc[test_indices], data.iloc[valid_indices]"
   ]
  },
  {
   "cell_type": "code",
   "execution_count": 155,
   "id": "5574f9a5-a25b-4831-8568-b6c19396492b",
   "metadata": {},
   "outputs": [],
   "source": [
    "train, test, valid = random_sampling(data_clean, 0.1, 0.2)"
   ]
  },
  {
   "cell_type": "code",
   "execution_count": 156,
   "id": "13cc0edb-3b83-4134-83f4-4a27be291c17",
   "metadata": {},
   "outputs": [
    {
     "data": {
      "text/plain": [
       "6912"
      ]
     },
     "execution_count": 156,
     "metadata": {},
     "output_type": "execute_result"
    }
   ],
   "source": [
    "len(train)"
   ]
  },
  {
   "cell_type": "code",
   "execution_count": 157,
   "id": "7dce831e-f14d-42a9-b45f-e2bbaa069dea",
   "metadata": {},
   "outputs": [
    {
     "data": {
      "text/plain": [
       "1974"
      ]
     },
     "execution_count": 157,
     "metadata": {},
     "output_type": "execute_result"
    }
   ],
   "source": [
    "len(test)"
   ]
  },
  {
   "cell_type": "code",
   "execution_count": 158,
   "id": "c99840f4-c82f-40d0-8743-dbf7e880c322",
   "metadata": {},
   "outputs": [
    {
     "data": {
      "text/plain": [
       "987"
      ]
     },
     "execution_count": 158,
     "metadata": {},
     "output_type": "execute_result"
    }
   ],
   "source": [
    "len(valid)"
   ]
  },
  {
   "cell_type": "code",
   "execution_count": 159,
   "id": "ceb78acb-200f-49b7-9f7f-642bc0ddf49e",
   "metadata": {},
   "outputs": [
    {
     "name": "stderr",
     "output_type": "stream",
     "text": [
      "/var/folders/tq/mb390y9j4rggkdnpr7vpvhhr0000gn/T/ipykernel_90368/1487142526.py:1: SettingWithCopyWarning: \n",
      "A value is trying to be set on a copy of a slice from a DataFrame.\n",
      "Try using .loc[row_indexer,col_indexer] = value instead\n",
      "\n",
      "See the caveats in the documentation: https://pandas.pydata.org/pandas-docs/stable/user_guide/indexing.html#returning-a-view-versus-a-copy\n",
      "  data_clean[\"cat_performance\"] = pd.cut(data_clean[\"Performance Index\"], bins=[0, 20, 40, 60, 80, 100], labels=[1, 2, 3, 4, 5])\n"
     ]
    },
    {
     "data": {
      "text/plain": [
       "[5, 4, 3, 2, 4, ..., 2, 3, 4, 5, 4]\n",
       "Length: 9873\n",
       "Categories (5, int64): [1 < 2 < 3 < 4 < 5]"
      ]
     },
     "execution_count": 159,
     "metadata": {},
     "output_type": "execute_result"
    }
   ],
   "source": [
    "data_clean[\"cat_performance\"] = pd.cut(data_clean[\"Performance Index\"], bins=[0, 20, 40, 60, 80, 100], labels=[1, 2, 3, 4, 5])"
   ]
  },
  {
   "cell_type": "code",
   "execution_count": 160,
   "id": "b4ac4a52-060a-4999-b206-b604d700e475",
   "metadata": {},
   "outputs": [
    {
     "data": {
      "text/plain": [
       "Performance Index\n",
       "3    3274\n",
       "4    3013\n",
       "2    2265\n",
       "5    1056\n",
       "1     265\n",
       "Name: count, dtype: int64"
      ]
     },
     "execution_count": 160,
     "metadata": {},
     "output_type": "execute_result"
    }
   ],
   "source": [
    "percent = performance_cat.value_counts()\n",
    "percent"
   ]
  },
  {
   "cell_type": "code",
   "execution_count": 162,
   "id": "f11caaf7-6491-4fdf-a2ea-ebbdea477b6e",
   "metadata": {},
   "outputs": [],
   "source": [
    "def stratified_random_sampling(data, feature_name, valid_ratio, test_ratio, bin_labels):\n",
    "    valid_set_size = len(data) * valid_ratio\n",
    "    test_set_size = len(data) * test_ratio\n",
    "    \n",
    "    train_indices = []\n",
    "    valid_indices = []\n",
    "    test_indices = []\n",
    "    \n",
    "    for label in bin_labels:\n",
    "        category_indices = data[data[feature_name] == label].index.values\n",
    "        \n",
    "        randomized_category_indices = np.random.permutation(category_indices)\n",
    "\n",
    "        valid_category_size = int(valid_ratio * len(randomized_category_indices))\n",
    "        test_category_size = int(test_ratio * len(randomized_category_indices))\n",
    "        \n",
    "        valid_end = valid_category_size\n",
    "        test_end = valid_category_size + test_category_size\n",
    "        \n",
    "        valid_indices.extend(randomized_category_indices[:valid_end])\n",
    "        test_indices.extend(randomized_category_indices[valid_end: test_end])\n",
    "        train_indices.extend(randomized_category_indices[test_end:])\n",
    "\n",
    "    valid_indices = np.array(valid_indices)\n",
    "    test_indices = np.array(test_indices)\n",
    "    train_indices = np.array(train_indices)\n",
    "    \n",
    "    return data.iloc[train_indices], data.iloc[valid_indices], data.iloc[test_indices]"
   ]
  },
  {
   "cell_type": "code",
   "execution_count": 166,
   "id": "22f02fcc-9ce3-462b-bbe8-186103512ff2",
   "metadata": {},
   "outputs": [],
   "source": [
    "train_set, valid_set, test_set = stratified_random_sampling(data_clean, \"cat_performance\", 0.15, 0.15, [1,2,3,4,5])"
   ]
  },
  {
   "cell_type": "code",
   "execution_count": 173,
   "id": "dacc8cfa-fa0c-4d28-8b6c-e86df2efe55d",
   "metadata": {},
   "outputs": [],
   "source": [
    "assert (len(train_set) + len(valid_set) + len(test_set)) == len(data_clean)"
   ]
  },
  {
   "cell_type": "code",
   "execution_count": null,
   "id": "e01837d5-3657-41c0-993e-f2bf03cb5fd3",
   "metadata": {},
   "outputs": [],
   "source": []
  }
 ],
 "metadata": {
  "kernelspec": {
   "display_name": "Python 3 (ipykernel)",
   "language": "python",
   "name": "python3"
  },
  "language_info": {
   "codemirror_mode": {
    "name": "ipython",
    "version": 3
   },
   "file_extension": ".py",
   "mimetype": "text/x-python",
   "name": "python",
   "nbconvert_exporter": "python",
   "pygments_lexer": "ipython3",
   "version": "3.10.18"
  }
 },
 "nbformat": 4,
 "nbformat_minor": 5
}
